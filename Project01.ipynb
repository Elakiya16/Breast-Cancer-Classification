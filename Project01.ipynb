{
 "cells": [
  {
   "cell_type": "code",
   "execution_count": 1,
   "id": "7d193918",
   "metadata": {},
   "outputs": [],
   "source": [
    "import numpy as np\n",
    "from glob import glob\n",
    "import random\n",
    "import matplotlib.pylab as plt\n",
    "import keras.backend as K\n",
    "from sklearn.model_selection import train_test_split\n",
    "import tensorflow as tf\n",
    "import keras\n",
    "from keras.utils.np_utils import to_categorical\n",
    "from keras.models import Sequential\n",
    "from tensorflow.keras.optimizers import SGD, RMSprop, Adam, Adagrad, Adadelta\n",
    "from keras.layers import Dense, Dropout, Activation, Flatten, BatchNormalization, Conv2D, MaxPool2D, MaxPooling2D\n",
    "from tensorflow.keras.callbacks import ReduceLROnPlateau, ModelCheckpoint, EarlyStopping\n",
    "%matplotlib inline"
   ]
  },
  {
   "cell_type": "code",
   "execution_count": 2,
   "id": "82b5ed88",
   "metadata": {},
   "outputs": [
    {
     "name": "stdout",
     "output_type": "stream",
     "text": [
      "Dataset\\Histopathology(IDC)\\8863\\0\\8863_idx5_x1001_y1001_class0.png\n",
      "Dataset\\Histopathology(IDC)\\8863\\0\\8863_idx5_x1001_y1051_class0.png\n",
      "Dataset\\Histopathology(IDC)\\8863\\0\\8863_idx5_x1001_y1101_class0.png\n",
      "Dataset\\Histopathology(IDC)\\8863\\0\\8863_idx5_x1001_y1151_class0.png\n",
      "Dataset\\Histopathology(IDC)\\8863\\0\\8863_idx5_x1001_y1201_class0.png\n",
      "Dataset\\Histopathology(IDC)\\8863\\0\\8863_idx5_x1001_y1251_class0.png\n",
      "Dataset\\Histopathology(IDC)\\8863\\0\\8863_idx5_x1001_y1301_class0.png\n",
      "Dataset\\Histopathology(IDC)\\8863\\0\\8863_idx5_x1001_y1351_class0.png\n",
      "Dataset\\Histopathology(IDC)\\8863\\0\\8863_idx5_x1001_y1401_class0.png\n",
      "Dataset\\Histopathology(IDC)\\8863\\0\\8863_idx5_x1001_y1451_class0.png\n"
     ]
    }
   ],
   "source": [
    "image = glob('Dataset\\Histopathology(IDC)\\8863/**/*.png')\n",
    "for filename in image[0:10]:\n",
    "    print(filename)"
   ]
  },
  {
   "cell_type": "code",
   "execution_count": 3,
   "id": "3c835402",
   "metadata": {},
   "outputs": [],
   "source": [
    "# Two arrays holding images by class type\n",
    "\n",
    "class0 = [] # 0 = no cancer\n",
    "class1 = [] # 1 = cancer\n",
    "\n",
    "for filename in image:\n",
    "    if filename.endswith(\"class0.png\"):\n",
    "         class0.append(filename)\n",
    "    else:\n",
    "        class1.append(filename)"
   ]
  },
  {
   "cell_type": "code",
   "execution_count": 4,
   "id": "ac3b4827",
   "metadata": {},
   "outputs": [
    {
     "data": {
      "text/plain": [
       "207"
      ]
     },
     "execution_count": 4,
     "metadata": {},
     "output_type": "execute_result"
    }
   ],
   "source": [
    "len(class1)"
   ]
  },
  {
   "cell_type": "code",
   "execution_count": 5,
   "id": "b16b94ca",
   "metadata": {},
   "outputs": [
    {
     "data": {
      "text/plain": [
       "772"
      ]
     },
     "execution_count": 5,
     "metadata": {},
     "output_type": "execute_result"
    }
   ],
   "source": [
    "sampled_class0 = random.sample(class0, 772)\n",
    "sampled_class1 = random.sample(class1, 207)\n",
    "len(sampled_class0)"
   ]
  },
  {
   "cell_type": "code",
   "execution_count": 6,
   "id": "59a9b841",
   "metadata": {},
   "outputs": [],
   "source": [
    "from matplotlib.image import imread\n",
    "import cv2\n",
    "\n",
    "def get_image_arrays(data, label):\n",
    "    img_arrays = []\n",
    "    for i in data:\n",
    "        if i.endswith('.png'):\n",
    "            img = cv2.imread(i ,cv2.IMREAD_COLOR)\n",
    "            img_sized = cv2.resize(img, (70, 70), interpolation=cv2.INTER_LINEAR)\n",
    "            img_arrays.append([img_sized, label])\n",
    "    return img_arrays"
   ]
  },
  {
   "cell_type": "code",
   "execution_count": 7,
   "id": "0c436c1a",
   "metadata": {},
   "outputs": [],
   "source": [
    "class0_array = get_image_arrays(sampled_class0, 0)\n",
    "class1_array = get_image_arrays(sampled_class1, 1)"
   ]
  },
  {
   "cell_type": "code",
   "execution_count": 8,
   "id": "8a504d7d",
   "metadata": {},
   "outputs": [
    {
     "data": {
      "text/plain": [
       "[array([[[243, 238, 243],\n",
       "         [240, 237, 244],\n",
       "         [235, 232, 243],\n",
       "         ...,\n",
       "         [146,  97, 160],\n",
       "         [144,  97, 167],\n",
       "         [131,  86, 165]],\n",
       " \n",
       "        [[235, 227, 240],\n",
       "         [218, 204, 235],\n",
       "         [208, 189, 232],\n",
       "         ...,\n",
       "         [129,  81, 141],\n",
       "         [130,  81, 142],\n",
       "         [126,  77, 144]],\n",
       " \n",
       "        [[209, 192, 232],\n",
       "         [194, 169, 226],\n",
       "         [187, 157, 223],\n",
       "         ...,\n",
       "         [137,  95, 149],\n",
       "         [142,  99, 150],\n",
       "         [140,  94, 150]],\n",
       " \n",
       "        ...,\n",
       " \n",
       "        [[121,  84, 184],\n",
       "         [123,  84, 186],\n",
       "         [126,  86, 188],\n",
       "         ...,\n",
       "         [129,  79, 147],\n",
       "         [144,  99, 173],\n",
       "         [155, 113, 188]],\n",
       " \n",
       "        [[136, 101, 185],\n",
       "         [133,  98, 184],\n",
       "         [140, 104, 189],\n",
       "         ...,\n",
       "         [133,  87, 158],\n",
       "         [147, 104, 182],\n",
       "         [157, 117, 200]],\n",
       " \n",
       "        [[154, 119, 178],\n",
       "         [145, 111, 174],\n",
       "         [153, 122, 186],\n",
       "         ...,\n",
       "         [143, 100, 174],\n",
       "         [150, 107, 184],\n",
       "         [155, 112, 194]]], dtype=uint8),\n",
       " 0]"
      ]
     },
     "execution_count": 8,
     "metadata": {},
     "output_type": "execute_result"
    }
   ],
   "source": [
    "class0_array[1]"
   ]
  },
  {
   "cell_type": "code",
   "execution_count": 9,
   "id": "5954f28a",
   "metadata": {},
   "outputs": [],
   "source": [
    "test = cv2.imread('../input/breast-histopathology-images/IDC_regular_ps50_idx5/13689/1/13689_idx5_x801_y1501_class1.png' ,cv2.IMREAD_COLOR)"
   ]
  },
  {
   "cell_type": "code",
   "execution_count": 10,
   "id": "5769e6ac",
   "metadata": {},
   "outputs": [
    {
     "name": "stderr",
     "output_type": "stream",
     "text": [
      "<__array_function__ internals>:5: VisibleDeprecationWarning: Creating an ndarray from ragged nested sequences (which is a list-or-tuple of lists-or-tuples-or ndarrays with different lengths or shapes) is deprecated. If you meant to do this, you must specify 'dtype=object' when creating the ndarray.\n"
     ]
    }
   ],
   "source": [
    "combined_data = np.concatenate((class0_array, class1_array))\n",
    "random.seed(41)\n",
    "random.shuffle(combined_data)"
   ]
  },
  {
   "cell_type": "code",
   "execution_count": 11,
   "id": "2cd86865",
   "metadata": {},
   "outputs": [],
   "source": [
    "X = []\n",
    "y = []\n",
    "\n",
    "for features,label in combined_data:\n",
    "    X.append(features)\n",
    "    y.append(label)"
   ]
  },
  {
   "cell_type": "code",
   "execution_count": 12,
   "id": "bb280bc3",
   "metadata": {},
   "outputs": [],
   "source": [
    "# print(X[11].reshape(-1, 50, 50, 3))\n",
    "# reshape X data\n",
    "X = np.array(X).reshape(-1, 70, 70, 3)"
   ]
  },
  {
   "cell_type": "code",
   "execution_count": 13,
   "id": "e983727c",
   "metadata": {},
   "outputs": [
    {
     "name": "stdout",
     "output_type": "stream",
     "text": [
      "(685, 70, 70, 3) (294, 70, 70, 3) (685, 2) (294, 2)\n"
     ]
    }
   ],
   "source": [
    "X_train, X_test, y_train, y_test = train_test_split(X, y, test_size=0.30, random_state=42)# print(X[11].reshape(-1, 50, 50, 3))\n",
    "# reshape X data\n",
    "X = np.array(X).reshape(-1, 70, 70, 3)\n",
    "y_train = to_categorical(y_train)\n",
    "y_test = to_categorical(y_test)\n",
    "print(X_train.shape, X_test.shape, y_train.shape, y_test.shape)"
   ]
  },
  {
   "cell_type": "code",
   "execution_count": 14,
   "id": "5b329c30",
   "metadata": {},
   "outputs": [],
   "source": [
    "from tensorflow.keras.applications import DenseNet201"
   ]
  },
  {
   "cell_type": "code",
   "execution_count": 15,
   "id": "20e2f3ae",
   "metadata": {},
   "outputs": [],
   "source": [
    "base_model = tf.keras.applications.DenseNet201(input_shape=(70,70,3),include_top=False,weights=\"imagenet\")"
   ]
  },
  {
   "cell_type": "code",
   "execution_count": 16,
   "id": "033cda0f",
   "metadata": {},
   "outputs": [],
   "source": [
    "# Freezing Layers\n",
    "\n",
    "for layer in base_model.layers[0:201]:\n",
    "    layer.trainable=False"
   ]
  },
  {
   "cell_type": "code",
   "execution_count": 17,
   "id": "f13de2bf",
   "metadata": {},
   "outputs": [],
   "source": [
    "# Building Model\n",
    "from keras.layers import Dense, Dropout, Activation, Flatten, BatchNormalization, Conv2D, MaxPool2D, MaxPooling2D,RepeatVector\n",
    "\n",
    "model=Sequential()\n",
    "model.add(base_model)\n",
    "model.add(Dropout(0.4))\n",
    "\n",
    "model.add(Flatten())\n",
    "model.add(RepeatVector(2))\n",
    "model.add(Flatten())\n",
    "model.add(Dense(2,activation='softmax'))"
   ]
  },
  {
   "cell_type": "code",
   "execution_count": 18,
   "id": "b5834385",
   "metadata": {},
   "outputs": [
    {
     "name": "stdout",
     "output_type": "stream",
     "text": [
      "Model: \"sequential\"\n",
      "_________________________________________________________________\n",
      " Layer (type)                Output Shape              Param #   \n",
      "=================================================================\n",
      " densenet201 (Functional)    (None, 2, 2, 1920)        18321984  \n",
      "                                                                 \n",
      " dropout (Dropout)           (None, 2, 2, 1920)        0         \n",
      "                                                                 \n",
      " flatten (Flatten)           (None, 7680)              0         \n",
      "                                                                 \n",
      " repeat_vector (RepeatVector  (None, 2, 7680)          0         \n",
      " )                                                               \n",
      "                                                                 \n",
      " flatten_1 (Flatten)         (None, 15360)             0         \n",
      "                                                                 \n",
      " dense (Dense)               (None, 2)                 30722     \n",
      "                                                                 \n",
      "=================================================================\n",
      "Total params: 18,352,706\n",
      "Trainable params: 15,947,522\n",
      "Non-trainable params: 2,405,184\n",
      "_________________________________________________________________\n"
     ]
    }
   ],
   "source": [
    "# Model Summary\n",
    "\n",
    "model.summary()"
   ]
  },
  {
   "cell_type": "code",
   "execution_count": 19,
   "id": "29584fd3",
   "metadata": {},
   "outputs": [],
   "source": [
    "def f1_score(y_true, y_pred): #taken from old keras source code\n",
    "    true_positives = K.sum(K.round(K.clip(y_true * y_pred, 0, 1)))\n",
    "    possible_positives = K.sum(K.round(K.clip(y_true, 0, 1)))\n",
    "    predicted_positives = K.sum(K.round(K.clip(y_pred, 0, 1)))\n",
    "    precision = true_positives / (predicted_positives + K.epsilon())\n",
    "    recall = true_positives / (possible_positives + K.epsilon())\n",
    "    f1_val = 2*(precision*recall)/(precision+recall+K.epsilon())\n",
    "    return f1_val"
   ]
  },
  {
   "cell_type": "code",
   "execution_count": 20,
   "id": "b9d79301",
   "metadata": {},
   "outputs": [],
   "source": [
    "METRICS = [\n",
    "      tf.keras.metrics.BinaryAccuracy(name='accuracy'),\n",
    "      tf.keras.metrics.Precision(name='precision'),\n",
    "      tf.keras.metrics.Recall(name='recall'),  \n",
    "      tf.keras.metrics.AUC(name='auc'),\n",
    "        f1_score,\n",
    "]"
   ]
  },
  {
   "cell_type": "code",
   "execution_count": 21,
   "id": "b948f428",
   "metadata": {},
   "outputs": [],
   "source": [
    "lrd = ReduceLROnPlateau(monitor = 'val_loss',patience = 5,verbose = 1,factor = 0.75, min_lr = 1e-10)\n",
    "\n",
    "mcp = ModelCheckpoint('model.h5')\n",
    "\n",
    "es = EarlyStopping(verbose=1, patience=5)"
   ]
  },
  {
   "cell_type": "code",
   "execution_count": 22,
   "id": "6b00eab9",
   "metadata": {},
   "outputs": [],
   "source": [
    "model.compile(optimizer='Adam', loss='binary_crossentropy',metrics=METRICS)"
   ]
  },
  {
   "cell_type": "code",
   "execution_count": 23,
   "id": "ed5864c0",
   "metadata": {},
   "outputs": [
    {
     "name": "stdout",
     "output_type": "stream",
     "text": [
      "Wall time: 0 ns\n",
      "Epoch 1/12\n",
      "22/22 [==============================] - 158s 5s/step - loss: 0.1391 - accuracy: 0.9547 - precision: 0.9547 - recall: 0.9547 - auc: 0.9824 - f1_score: 0.9560 - val_loss: 74.5569 - val_accuracy: 0.9796 - val_precision: 0.9796 - val_recall: 0.9796 - val_auc: 0.9796 - val_f1_score: 0.9812 - lr: 0.0010\n",
      "Epoch 2/12\n",
      "22/22 [==============================] - 80s 4s/step - loss: 0.0696 - accuracy: 0.9825 - precision: 0.9825 - recall: 0.9825 - auc: 0.9872 - f1_score: 0.9830 - val_loss: 155.3976 - val_accuracy: 0.9796 - val_precision: 0.9796 - val_recall: 0.9796 - val_auc: 0.9796 - val_f1_score: 0.9812 - lr: 0.0010\n",
      "Epoch 3/12\n",
      "22/22 [==============================] - 75s 3s/step - loss: 0.0560 - accuracy: 0.9825 - precision: 0.9825 - recall: 0.9825 - auc: 0.9901 - f1_score: 0.9809 - val_loss: 29.7685 - val_accuracy: 0.9796 - val_precision: 0.9796 - val_recall: 0.9796 - val_auc: 0.9796 - val_f1_score: 0.9812 - lr: 0.0010\n",
      "Epoch 4/12\n",
      "22/22 [==============================] - 78s 4s/step - loss: 0.0648 - accuracy: 0.9810 - precision: 0.9810 - recall: 0.9810 - auc: 0.9915 - f1_score: 0.9815 - val_loss: 74.8151 - val_accuracy: 0.9796 - val_precision: 0.9796 - val_recall: 0.9796 - val_auc: 0.9796 - val_f1_score: 0.9812 - lr: 0.0010\n",
      "Epoch 5/12\n",
      "22/22 [==============================] - 74s 3s/step - loss: 0.0571 - accuracy: 0.9825 - precision: 0.9825 - recall: 0.9825 - auc: 0.9947 - f1_score: 0.9830 - val_loss: 10.3091 - val_accuracy: 0.9796 - val_precision: 0.9796 - val_recall: 0.9796 - val_auc: 0.9796 - val_f1_score: 0.9812 - lr: 0.0010\n",
      "Epoch 6/12\n",
      "22/22 [==============================] - 75s 3s/step - loss: 0.0447 - accuracy: 0.9825 - precision: 0.9825 - recall: 0.9825 - auc: 0.9950 - f1_score: 0.9830 - val_loss: 0.6512 - val_accuracy: 0.9796 - val_precision: 0.9796 - val_recall: 0.9796 - val_auc: 0.9796 - val_f1_score: 0.9812 - lr: 0.0010\n",
      "Epoch 7/12\n",
      "22/22 [==============================] - 78s 4s/step - loss: 0.0523 - accuracy: 0.9839 - precision: 0.9839 - recall: 0.9839 - auc: 0.9949 - f1_score: 0.9823 - val_loss: 3.3877 - val_accuracy: 0.9796 - val_precision: 0.9796 - val_recall: 0.9796 - val_auc: 0.9861 - val_f1_score: 0.9812 - lr: 0.0010\n",
      "Epoch 8/12\n",
      "22/22 [==============================] - 77s 4s/step - loss: 0.0297 - accuracy: 0.9839 - precision: 0.9839 - recall: 0.9839 - auc: 0.9995 - f1_score: 0.9844 - val_loss: 0.8302 - val_accuracy: 0.9864 - val_precision: 0.9864 - val_recall: 0.9864 - val_auc: 0.9896 - val_f1_score: 0.9875 - lr: 0.0010\n",
      "Epoch 9/12\n",
      "22/22 [==============================] - 78s 4s/step - loss: 0.0470 - accuracy: 0.9869 - precision: 0.9869 - recall: 0.9869 - auc: 0.9967 - f1_score: 0.9851 - val_loss: 0.4760 - val_accuracy: 0.9796 - val_precision: 0.9796 - val_recall: 0.9796 - val_auc: 0.9926 - val_f1_score: 0.9812 - lr: 0.0010\n",
      "Epoch 10/12\n",
      "22/22 [==============================] - 79s 4s/step - loss: 0.0516 - accuracy: 0.9825 - precision: 0.9825 - recall: 0.9825 - auc: 0.9985 - f1_score: 0.9830 - val_loss: 1.1216 - val_accuracy: 0.9796 - val_precision: 0.9796 - val_recall: 0.9796 - val_auc: 0.9828 - val_f1_score: 0.9812 - lr: 0.0010\n",
      "Epoch 11/12\n",
      "22/22 [==============================] - 75s 3s/step - loss: 0.0308 - accuracy: 0.9883 - precision: 0.9883 - recall: 0.9883 - auc: 0.9982 - f1_score: 0.9886 - val_loss: 0.6265 - val_accuracy: 0.9796 - val_precision: 0.9796 - val_recall: 0.9796 - val_auc: 0.9796 - val_f1_score: 0.9812 - lr: 0.0010\n",
      "Epoch 12/12\n",
      "22/22 [==============================] - 76s 3s/step - loss: 0.0175 - accuracy: 0.9927 - precision: 0.9927 - recall: 0.9927 - auc: 0.9998 - f1_score: 0.9929 - val_loss: 0.5970 - val_accuracy: 0.9660 - val_precision: 0.9660 - val_recall: 0.9660 - val_auc: 0.9781 - val_f1_score: 0.9688 - lr: 0.0010\n"
     ]
    }
   ],
   "source": [
    "%time\n",
    "history=model.fit(X_train, y_train,validation_data=(X_test, y_test),verbose = 1,epochs = 12,callbacks=[lrd,mcp,es])"
   ]
  },
  {
   "cell_type": "code",
   "execution_count": 24,
   "id": "13c6f4ec",
   "metadata": {},
   "outputs": [
    {
     "data": {
      "text/plain": [
       "<matplotlib.legend.Legend at 0x1ab9f569460>"
      ]
     },
     "execution_count": 24,
     "metadata": {},
     "output_type": "execute_result"
    },
    {
     "data": {
      "image/png": "[encoded data removed]",
      "text/plain": [
       "<Figure size 864x432 with 2 Axes>"
      ]
     },
     "metadata": {
      "needs_background": "light"
     },
     "output_type": "display_data"
    }
   ],
   "source": [
    "#plot the accuracy graph\n",
    "plt.figure(figsize = (12,6))\n",
    "plt.subplot(2,1,1)\n",
    "plt.plot(history.history['accuracy'], label=\"train_acc\")\n",
    "plt.plot(history.history['val_accuracy'], label = \"test_acc\")\n",
    "plt.legend()\n",
    "plt.subplot(2,1,2)\n",
    "plt.plot(history.history['loss'], label = \"train_loss\")\n",
    "plt.plot(history.history['loss'], label = \"val_loss\")\n",
    "plt.legend()"
   ]
  },
  {
   "cell_type": "code",
   "execution_count": 25,
   "id": "deff191a",
   "metadata": {},
   "outputs": [],
   "source": [
    "#%% PLOTTING RESULTS (Train vs Validation FOLDER 1)\n",
    "\n",
    "def Train_Val_Plot(acc,val_acc,loss,val_loss,auc,val_auc,precision,val_precision,f1,val_f1):\n",
    "    \n",
    "    fig, (ax1, ax2,ax3,ax4,ax5) = plt.subplots(1,5, figsize= (16,4))\n",
    "    fig.suptitle(\" MODEL'S METRICS VISUALIZATION \")\n",
    "\n",
    "    ax1.plot(range(1, len(acc) + 1), acc)\n",
    "    ax1.plot(range(1, len(val_acc) + 1), val_acc)\n",
    "    ax1.set_title('History of Accuracy')\n",
    "    ax1.set_xlabel('Epochs')\n",
    "    ax1.set_ylabel('Accuracy')\n",
    "    #ax1.legend(['training', 'validation'])\n",
    "\n",
    "\n",
    "    ax2.plot(range(1, len(loss) + 1), loss)\n",
    "    ax2.plot(range(1, len(val_loss) + 1), val_loss)\n",
    "    ax2.set_title('History of Loss')\n",
    "    ax2.set_xlabel('Epochs')\n",
    "    ax2.set_ylabel('Loss')\n",
    "    #ax2.legend(['training', 'validation'])\n",
    "    \n",
    "    \n",
    "    ax3.plot(range(1, len(auc) + 1), auc)\n",
    "    ax3.plot(range(1, len(val_auc) + 1), val_auc)\n",
    "    ax3.set_title(' History of AUC ')\n",
    "    ax3.set_xlabel(' Epochs ')\n",
    "    ax3.set_ylabel('AUC')\n",
    "    #ax3.legend(['training', 'validation'])\n",
    "    \n",
    "    ax4.plot(range(1, len(precision) + 1), precision)\n",
    "    ax4.plot(range(1, len(val_precision) + 1), val_precision)\n",
    "    ax4.set_title('History of Precision')\n",
    "    ax4.set_xlabel('Epochs')\n",
    "    ax4.set_ylabel('Precision')\n",
    "    #ax4.legend(['training', 'validation'])\n",
    "    \n",
    "    ax5.plot(range(1, len(f1) + 1), f1)\n",
    "    ax5.plot(range(1, len(val_f1) + 1), val_f1)\n",
    "    ax5.set_title('History of F1-score')\n",
    "    ax5.set_xlabel('Epochs')\n",
    "    ax5.set_ylabel('F1 score')\n",
    "    #ax5.legend(['training', 'validation'])\n",
    "\n",
    "\n",
    "    \n",
    "    Train_Val_Plot(history.history['accuracy'],history.history['val_accuracy'],\n",
    "               history.history['loss'],history.history['val_loss'],\n",
    "               history.history['auc'],history.history['val_auc'],\n",
    "               history.history['precision'],history.history['val_precision'],\n",
    "               history.history['f1_score'],history.history['val_f1_score']\n",
    "              )\n",
    "    plt.show()\n"
   ]
  },
  {
   "cell_type": "code",
   "execution_count": 26,
   "id": "dec8184d",
   "metadata": {},
   "outputs": [
    {
     "data": {
      "image/png": "[encoded data removed]",
      "text/plain": [
       "<Figure size 576x576 with 2 Axes>"
      ]
     },
     "metadata": {
      "needs_background": "light"
     },
     "output_type": "display_data"
    }
   ],
   "source": [
    "from sklearn.metrics import confusion_matrix\n",
    "import seaborn as sns\n",
    "\n",
    "Y_pred = model.predict(X_test)\n",
    "Y_pred_classes = np.argmax(Y_pred,axis = 1) \n",
    "Y_true = np.argmax(y_test,axis = 1) \n",
    "\n",
    "confusion_mtx = confusion_matrix(Y_true, Y_pred_classes) \n",
    "\n",
    "f,ax = plt.subplots(figsize=(8, 8))\n",
    "sns.heatmap(confusion_mtx, annot=True, linewidths=0.01,cmap=\"OrRd\",linecolor=\"black\", fmt= '.1f',ax=ax)\n",
    "plt.xlabel(\"Predicted Label\")\n",
    "plt.ylabel(\"True Label\")\n",
    "plt.title(\"Confusion Matrix\")\n",
    "plt.show()"
   ]
  },
  {
   "cell_type": "code",
   "execution_count": 27,
   "id": "b320cb4f",
   "metadata": {},
   "outputs": [
    {
     "name": "stdout",
     "output_type": "stream",
     "text": [
      "              precision    recall  f1-score   support\n",
      "\n",
      "           0       0.98      0.99      0.98       288\n",
      "           1       0.00      0.00      0.00         6\n",
      "\n",
      "    accuracy                           0.97       294\n",
      "   macro avg       0.49      0.49      0.49       294\n",
      "weighted avg       0.96      0.97      0.96       294\n",
      "\n"
     ]
    }
   ],
   "source": [
    "from sklearn.metrics import classification_report\n",
    "\n",
    "print(classification_report(Y_true, Y_pred_classes))"
   ]
  },
  {
   "cell_type": "code",
   "execution_count": null,
   "id": "0465dbbf",
   "metadata": {},
   "outputs": [],
   "source": []
  }
 ],
 "metadata": {
  "kernelspec": {
   "display_name": "Python 3 (ipykernel)",
   "language": "python",
   "name": "python3"
  },
  "language_info": {
   "codemirror_mode": {
    "name": "ipython",
    "version": 3
   },
   "file_extension": ".py",
   "mimetype": "text/x-python",
   "name": "python",
   "nbconvert_exporter": "python",
   "pygments_lexer": "ipython3",
   "version": "3.9.7"
  }
 },
 "nbformat": 4,
 "nbformat_minor": 5
}
